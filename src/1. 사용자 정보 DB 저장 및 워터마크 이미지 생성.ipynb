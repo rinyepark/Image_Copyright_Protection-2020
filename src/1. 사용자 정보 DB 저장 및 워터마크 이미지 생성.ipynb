{
 "cells": [
  {
   "cell_type": "markdown",
   "metadata": {},
   "source": [
    "## Import Python module"
   ]
  },
  {
   "cell_type": "code",
   "execution_count": 6,
   "metadata": {},
   "outputs": [],
   "source": [
    "import base64\n",
    "from Crypto import Random\n",
    "from Crypto.Cipher import AES\n",
    "import secrets"
   ]
  },
  {
   "cell_type": "code",
   "execution_count": 7,
   "metadata": {},
   "outputs": [],
   "source": [
    "import numpy as np\n",
    "import matplotlib.pyplot as plt\n",
    "from PIL import Image, ImageDraw, ImageFont"
   ]
  },
  {
   "cell_type": "code",
   "execution_count": 8,
   "metadata": {},
   "outputs": [],
   "source": [
    "import sqlite3"
   ]
  },
  {
   "cell_type": "code",
   "execution_count": 9,
   "metadata": {},
   "outputs": [],
   "source": [
    "import datetime\n",
    "import time\n",
    "import pandas as pd\n",
    "import os"
   ]
  },
  {
   "cell_type": "markdown",
   "metadata": {},
   "source": [
    "#### * SQL문"
   ]
  },
  {
   "cell_type": "code",
   "execution_count": 10,
   "metadata": {},
   "outputs": [],
   "source": [
    "select_all = \"SELECT * FROM {}\"\n",
    "select_key = \"SELECT * from KEY\"\n",
    "insert_webuser = \"INSERT INTO webuser VALUES (?,?,?,?,?,?,?,?,?)\"\n",
    "drop_table = \"DROP TABLE {}\"\n",
    "delete_webuser_by_idx = \"DELETE FROM webuser WHERE idx=?\""
   ]
  },
  {
   "cell_type": "code",
   "execution_count": 11,
   "metadata": {},
   "outputs": [],
   "source": [
    "# cur.execute(\"CREATE TABLE webuser(idx text, year int, month int, day int, time text, ip text, device text, pid text, url text)\")\n",
    "# cur.execute(\"CREATE TABLE KEY(ipkey text, devicekey text, pidkey text)\")"
   ]
  },
  {
   "cell_type": "code",
   "execution_count": 10,
   "metadata": {},
   "outputs": [],
   "source": [
    "# cur.execute(drop_table.format(\"webuser\"))\n",
    "# cur.execute(drop_table.format(\"KEY\"))"
   ]
  },
  {
   "cell_type": "code",
   "execution_count": null,
   "metadata": {},
   "outputs": [],
   "source": [
    "# 최초 1회만 생성 및 삽입\n",
    "# ip_key = secrets.token_bytes(16)\n",
    "# dev_key = secrets.token_bytes(16)\n",
    "# pid_key = secrets.token_bytes(16)\n",
    "\n",
    "# cur.execute(\"insert into KEY (ipkey, devicekey, pidkey) values (?,?,?)\", (key['ip_key'] ,key['dev_key'], key['pid_key']))"
   ]
  },
  {
   "cell_type": "markdown",
   "metadata": {},
   "source": [
    "#### * 암호문"
   ]
  },
  {
   "cell_type": "code",
   "execution_count": 11,
   "metadata": {},
   "outputs": [],
   "source": [
    "class AES_cbcmode:\n",
    "    \n",
    "    def __init__(self,key):\n",
    "        self.key = key\n",
    "    \n",
    "    def padding(self, raw_data):\n",
    "        # 한국어의 경우 utf-8했을 때의 len이 달라지므로 encoding 과정 추가\n",
    "        enc = raw_data.encode('utf-8')\n",
    "        pad_num = AES.block_size - len(enc) % AES.block_size\n",
    "        pad_chr = chr(pad_num)\n",
    "        \n",
    "        # encoding해서 최종 pad_data 반환\n",
    "        return (raw_data + pad_num * pad_chr).encode('utf-8')\n",
    "    \n",
    "    def unpadding(self, pad_data):\n",
    "        return pad_data[:-pad_data[-1]]\n",
    "    \n",
    "    def encrypt(self, raw_data):\n",
    "        pad_data = self.padding(raw_data)\n",
    "    \n",
    "        # iv: initial vector\n",
    "        # 두 번째 키와 같은 존재, \n",
    "        # 블록 단위로 암호/복호하면서 변경되고 그 값은 다음 블록 단위 암호/복호 시 사용\n",
    "        iv = Random.new().read( AES.block_size )\n",
    "        \n",
    "        # CBC mode(Cipher Block Chaining)\n",
    "        cipher = AES.new( self.key, AES.MODE_CBC, iv )\n",
    "        return base64.b64encode(iv + cipher.encrypt(pad_data))\n",
    "    \n",
    "    def decrypt(self, enc_data):\n",
    "        enc_decode = base64.b64decode(enc_data)\n",
    "        iv = enc_decode[:AES.block_size]\n",
    "        cipher = AES.new(self.key,AES.MODE_CBC, iv)\n",
    "        return self.unpadding(cipher.decrypt(enc_decode[AES.block_size:]))"
   ]
  },
  {
   "cell_type": "markdown",
   "metadata": {},
   "source": [
    "### 1. user DB 연결"
   ]
  },
  {
   "cell_type": "code",
   "execution_count": 12,
   "metadata": {},
   "outputs": [],
   "source": [
    "conn = sqlite3.connect(\"user_db/user.db\")\n",
    "cur = conn.cursor()"
   ]
  },
  {
   "cell_type": "markdown",
   "metadata": {},
   "source": [
    "### 2. Key 불러오기"
   ]
  },
  {
   "cell_type": "code",
   "execution_count": 13,
   "metadata": {
    "scrolled": true
   },
   "outputs": [],
   "source": [
    "key_df = pd.read_sql_query(select_key ,conn)\n",
    "key_dict = dict(zip(key_df.columns, key_df.iloc[0]))"
   ]
  },
  {
   "cell_type": "markdown",
   "metadata": {},
   "source": [
    "### 3. 사용자 정보 디바이스로부터 읽어오기 + 암호화 후 추가"
   ]
  },
  {
   "cell_type": "markdown",
   "metadata": {},
   "source": [
    "#### 임시\n",
    "***"
   ]
  },
  {
   "cell_type": "code",
   "execution_count": 14,
   "metadata": {},
   "outputs": [],
   "source": [
    "path = \"user_db/\"\n",
    "file_list = os.listdir(path)"
   ]
  },
  {
   "cell_type": "code",
   "execution_count": 15,
   "metadata": {},
   "outputs": [],
   "source": [
    "user = file_list[0]"
   ]
  },
  {
   "cell_type": "markdown",
   "metadata": {},
   "source": [
    "***"
   ]
  },
  {
   "cell_type": "code",
   "execution_count": 16,
   "metadata": {},
   "outputs": [],
   "source": [
    "sel_num = 1"
   ]
  },
  {
   "cell_type": "code",
   "execution_count": 17,
   "metadata": {},
   "outputs": [],
   "source": [
    "info=[]\n",
    "\n",
    "# 시간\n",
    "now = time.localtime()\n",
    "\n",
    "for i in range(3):\n",
    "    info.append(now[i])\n",
    "    \n",
    "info.append(\"%02d:%02d:%02d\" %(now[3],now[4],now[5]))\n",
    "\n",
    "# 사용자정보(from mobilephone)\n",
    "\n",
    "# 1) ip & url\n",
    "f = open(path+user+\"/capture/{}.txt\".format(sel_num), 'r')\n",
    "ip = f.readline().strip('\\n').rjust(64,'*')\n",
    "enc_ip = AES_cbcmode(key_dict['ipkey']).encrypt(ip)\n",
    "url = f.readline().strip('\\n')\n",
    "f.close\n",
    "\n",
    "info.append(enc_ip)\n",
    "\n",
    "# 2) device\n",
    "f = open(path+user+\"/device.txt\", 'r')\n",
    "device = f.readline().strip('\\n').rjust(64,'*')\n",
    "f.close()\n",
    "\n",
    "enc_device = AES_cbcmode(key_dict['devicekey']).encrypt(device)\n",
    "info.append(enc_device)\n",
    "\n",
    "# 3) pid\n",
    "pid = user[-10:].rjust(64,'*')\n",
    "enc_pid = AES_cbcmode(key_dict['pidkey']).encrypt(pid)\n",
    "info.append(enc_pid)\n",
    "\n",
    "# 4) append url\n",
    "info.append(url)\n"
   ]
  },
  {
   "cell_type": "markdown",
   "metadata": {},
   "source": [
    "####  idx(워터마크 text) 생성\n",
    "- text\n",
    "- (사이트고유문자)+(월일)+(사용자고유식별문구6자리)+(숫자4자리)\n",
    "\n",
    "EX) 임의로 지정  \n",
    "- NAVER: NNN  \n",
    "- 사용자고유식별문구: DLFM2B  \n",
    "- 숫자: 0  \n",
    "\n",
    "###### 아래의 두 정보는 사용자 디바이스의 cache에 저장\n",
    "사용자고유식별문구: 사용자별로 부여됨(반드시 맨 뒷 글자는 문자)  \n",
    "숫자: 년월일 기준으로 00시에 초기화"
   ]
  },
  {
   "cell_type": "code",
   "execution_count": 34,
   "metadata": {},
   "outputs": [],
   "source": [
    "protect_url = {\"comic.naver.com\": \"NAV\",\"webtoon.daum.net\":\"DAU\"}"
   ]
  },
  {
   "cell_type": "code",
   "execution_count": 38,
   "metadata": {},
   "outputs": [],
   "source": [
    "#sites\n",
    "sites = \"III\"\n",
    "for i in protect_url.keys():\n",
    "    if i in url:\n",
    "        sites = protect_url[i]\n",
    "\n",
    "#date(MMDD)\n",
    "wm_date = \"%02d%02d\"%(now[1],now[2])\n",
    "\n",
    "# cache_code\n",
    "f = open(path+user+\"/cache_code.txt\", 'r')\n",
    "cache_user = f.readline().strip('\\n')\n",
    "f.close()\n",
    "\n",
    "#cache num\n",
    "f = open(path+user+\"/cache_num.txt\", 'r')\n",
    "cache_num = int(f.readline().strip('\\n'))\n",
    "f.close()\n",
    "\n",
    "add_num = str(cache_num + 1)\n",
    "\n",
    "f = open(path+user+\"/cache_num.txt\", 'w')\n",
    "f.write(add_num)\n",
    "f.close()\n",
    "\n",
    "wm_txt = sites + wm_date + cache_user + \"%04d\" % cache_num"
   ]
  },
  {
   "cell_type": "code",
   "execution_count": 39,
   "metadata": {},
   "outputs": [
    {
     "data": {
      "text/plain": [
       "'DAU0614MGQOHR0000'"
      ]
     },
     "execution_count": 39,
     "metadata": {},
     "output_type": "execute_result"
    }
   ],
   "source": [
    "wm_txt"
   ]
  },
  {
   "cell_type": "markdown",
   "metadata": {},
   "source": [
    "#### 삽입 후 DB 적용 + 종료"
   ]
  },
  {
   "cell_type": "code",
   "execution_count": 40,
   "metadata": {},
   "outputs": [],
   "source": [
    "info.insert(0,wm_txt)\n",
    "\n",
    "cur.execute(insert_webuser, tuple(info))\n",
    "\n",
    "conn.commit()\n",
    "\n",
    "cur.close()\n",
    "conn.close()"
   ]
  },
  {
   "cell_type": "markdown",
   "metadata": {},
   "source": [
    "### 3) 텍스트 이미지화\n",
    "\n",
    "- 나눔스퀘어 사용\n",
    "- font 크기: 10\n",
    "- 워터마크 크기: (148,13)"
   ]
  },
  {
   "cell_type": "code",
   "execution_count": 305,
   "metadata": {},
   "outputs": [],
   "source": [
    "font = ImageFont.truetype(\"font/NanumSquareEB.ttf\",10)\n",
    "\n",
    "orig_size = font.getsize(wm_txt)\n",
    "pad_size = (148,13) #font = 10\n",
    "\n",
    "background = (0,0,0)\n",
    "\n",
    "image = Image.new('RGB', pad_size, background)\n",
    "\n",
    "draw = ImageDraw.Draw(image)\n",
    "\n",
    "point = ((pad_size[0]-orig_size[0])//2, (pad_size[1]-orig_size[1])//2)\n",
    "\n",
    "draw.text(point, wm_txt, (255, 255, 255), font = font)\n",
    "\n",
    "# 저장\n",
    "image.save(\"wm/{}_img{}.png\".format(user[:-11],cache_num+1))"
   ]
  }
 ],
 "metadata": {
  "kernelspec": {
   "display_name": "Python 3",
   "language": "python",
   "name": "python3"
  },
  "language_info": {
   "codemirror_mode": {
    "name": "ipython",
    "version": 3
   },
   "file_extension": ".py",
   "mimetype": "text/x-python",
   "name": "python",
   "nbconvert_exporter": "python",
   "pygments_lexer": "ipython3",
   "version": "3.6.4"
  }
 },
 "nbformat": 4,
 "nbformat_minor": 2
}
