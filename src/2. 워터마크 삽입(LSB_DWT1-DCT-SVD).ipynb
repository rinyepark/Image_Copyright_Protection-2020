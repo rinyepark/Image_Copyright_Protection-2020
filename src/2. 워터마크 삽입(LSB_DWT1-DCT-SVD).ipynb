{
 "cells": [
  {
   "cell_type": "markdown",
   "metadata": {},
   "source": [
    "## Import Python module"
   ]
  },
  {
   "cell_type": "code",
   "execution_count": 1,
   "metadata": {},
   "outputs": [],
   "source": [
    "import matplotlib.pyplot as plt\n",
    "import time"
   ]
  },
  {
   "cell_type": "code",
   "execution_count": 2,
   "metadata": {},
   "outputs": [],
   "source": [
    "import numpy as np \n",
    "import cv2\n",
    "from pywt import dwt,idwt\n",
    "import os"
   ]
  },
  {
   "cell_type": "markdown",
   "metadata": {},
   "source": [
    "#### 임시\n",
    "***"
   ]
  },
  {
   "cell_type": "code",
   "execution_count": 3,
   "metadata": {},
   "outputs": [],
   "source": [
    "phone = \"galaxyS7\"\n",
    "# phone = \"iPhoneX\"\n",
    "p = \"phone1\"\n",
    "img_num = 1"
   ]
  },
  {
   "cell_type": "markdown",
   "metadata": {},
   "source": [
    "***"
   ]
  },
  {
   "cell_type": "markdown",
   "metadata": {},
   "source": [
    "### 1. LSB"
   ]
  },
  {
   "cell_type": "code",
   "execution_count": 4,
   "metadata": {},
   "outputs": [],
   "source": [
    "def watermark_lsb(x):\n",
    "    \n",
    "    x = format(x, '#010b')\n",
    "    temp = x[:-2] + '11'\n",
    "    result = int(temp, 2)\n",
    "    \n",
    "    return np.uint8(result)"
   ]
  },
  {
   "cell_type": "code",
   "execution_count": 5,
   "metadata": {},
   "outputs": [],
   "source": [
    "url = 'pic/{}/img{}.png'.format(phone,img_num)\n",
    "# url = 'pic/lena.png'\n",
    "\n",
    "lsb_img= cv2.imread(url)\n",
    "img_b = lsb_img[:,:,0].copy()\n",
    "\n",
    "col_mid = img_b.shape[1]//2\n",
    "row_mid = img_b.shape[0]//2\n",
    "\n",
    "# 두께 4, 가로세로 삽입\n",
    "for i in range(0,img_b.shape[0]):\n",
    "    for k in range(col_mid-2,col_mid+2):\n",
    "        img_b[i,k] = watermark_lsb(img_b[i,k])\n",
    "        \n",
    "for i in range(row_mid-2,row_mid+2):\n",
    "    for k in range(0,img_b.shape[1]):\n",
    "        img_b[i,k] = watermark_lsb(img_b[i,k])\n",
    "        \n",
    "lsb_img[:,:,0] = img_b.copy()"
   ]
  },
  {
   "cell_type": "markdown",
   "metadata": {},
   "source": [
    "### 2. Embed"
   ]
  },
  {
   "cell_type": "code",
   "execution_count": 6,
   "metadata": {},
   "outputs": [],
   "source": [
    "def block_add_wm(block,i):\n",
    "    \n",
    "    mod = 32\n",
    "    \n",
    "    i = i%(wm_shape[0]*wm_shape[1])\n",
    "\n",
    "    wm_1 = wm_flatten[i]\n",
    "    \n",
    "    block_dct = cv2.dct(block)\n",
    "    \n",
    "    U,s,V = np.linalg.svd(block_dct)\n",
    "    \n",
    "    max_s = s[0]\n",
    "\n",
    "    s[0] = (max_s-max_s%mod+7/8*mod) if wm_1>=128 else (max_s-max_s%mod+1/8*mod)\n",
    "\n",
    "    block_dct_embed = np.dot(U,np.dot(np.diag(s),V))\n",
    "\n",
    "    return cv2.idct(block_dct_embed)"
   ]
  },
  {
   "cell_type": "code",
   "execution_count": 7,
   "metadata": {},
   "outputs": [
    {
     "name": "stdout",
     "output_type": "stream",
     "text": [
      "Time: 1.9557380676269531\n"
     ]
    }
   ],
   "source": [
    "start_emb = time.time()\n",
    "\n",
    "ori_img = lsb_img.astype(np.float32)\n",
    "ori_img_shape = ori_img.shape[:2]\n",
    "\n",
    "ori_img_YUV = cv2.cvtColor(ori_img, cv2.COLOR_BGR2YUV)\n",
    "\n",
    "dwt_deep = 1 \n",
    "\n",
    "if not ori_img_YUV.shape[0]%(2**dwt_deep)==0:\n",
    "    temp = (2**dwt_deep)-ori_img_YUV.shape[0]%(2**dwt_deep)\n",
    "    ori_img_YUV = np.concatenate((ori_img_YUV,np.zeros((temp,ori_img_YUV.shape[1],3))),axis=0)\n",
    "    \n",
    "if not ori_img_YUV.shape[1]%(2**dwt_deep)==0:\n",
    "    temp = (2**dwt_deep)-ori_img_YUV.shape[1]%(2**dwt_deep)\n",
    "    ori_img_YUV = np.concatenate((ori_img_YUV,np.zeros((ori_img_YUV.shape[0],temp,3))),axis=1)\n",
    "    \n",
    "# assert ori_img_YUV.shape[0]%(2**dwt_deep)==0\n",
    "# assert ori_img_YUV.shape[1]%(2**dwt_deep)==0\n",
    "\n",
    "# dwt1\n",
    "coeffs_Y = dwt(ori_img_YUV[:,:,0],'haar')\n",
    "ha_Y = coeffs_Y[0]\n",
    "\n",
    "coeffs_Y = coeffs_Y[1]\n",
    "\n",
    "# block\n",
    "block_shape=(8,8)\n",
    "ha_block_shape = (int(ha_Y.shape[0]/block_shape[0]),int(ha_Y.shape[1]/block_shape[1]),block_shape[0],block_shape[1])\n",
    "strides = ha_Y.itemsize*(np.array([ha_Y.shape[1]*block_shape[0],block_shape[1],ha_Y.shape[1],1]))\n",
    "\n",
    "ha_Y_block = np.lib.stride_tricks.as_strided(ha_Y.copy(),ha_block_shape,strides)\n",
    "# coeffs_Y_block = np.lib.stride_tricks.as_strided(coeffs_Y.copy(),ha_block_shape,strides)\n",
    "\n",
    "# wm\n",
    "wm_url = \"wm/{}_img{}.png\".format(p,img_num)\n",
    "wm = cv2.imread(wm_url)[:,:,0]\n",
    "wm_shape = wm.shape[:2]\n",
    "\n",
    "# 이미지 크기가 충분히 큰지 확인\n",
    "img_shape = ha_Y.shape\n",
    "shape0_int,shape1_int = img_shape[0]//block_shape[0], img_shape[1]//block_shape[1]\n",
    "\n",
    "if not shape0_int*shape1_int>=wm_shape[0]*wm_shape[1]:\n",
    "    print(\"워터마크의 크기가 사진의 용량을 초과\")\n",
    "\n",
    "part_shape = (shape0_int*block_shape[0],shape1_int*(block_shape[1]))\n",
    "block_index0,block_index1 = np.meshgrid(np.arange(shape0_int),np.arange(shape1_int))\n",
    "b_flat_idx0, b_flat_idx1 = block_index0.flatten(),block_index1.flatten()\n",
    "\n",
    "# 길이\n",
    "length = b_flat_idx0.size\n",
    "\n",
    "#워터마크 flatten\n",
    "wm_flatten = wm.flatten()\n",
    "\n",
    "# embed\n",
    "embed_Y_block = ha_Y_block.copy()\n",
    "# cY_block = coeffs_Y_block.copy()\n",
    "\n",
    "# start_emb = time.time()\n",
    "\n",
    "for i in range(length):\n",
    "    embed_Y_block[b_flat_idx0[i], b_flat_idx1[i]] = block_add_wm(embed_Y_block[b_flat_idx0[i], b_flat_idx1[i]], i)\n",
    "#     cY_block[b_flat_idx0[i], b_flat_idx1[i]] = block_add_wm(cY_block[b_flat_idx0[i], b_flat_idx1[i]], i)\n",
    "    \n",
    "# print(\"Time:\",time.time()-start_emb)\n",
    "\n",
    "# re-shape\n",
    "embed_Y_part = np.concatenate(embed_Y_block,1)\n",
    "embed_Y = np.concatenate(embed_Y_part,1)\n",
    "\n",
    "# embed_cY_part = np.concatenate(cY_block,1)\n",
    "# cY = np.concatenate(embed_cY_part,1)\n",
    "\n",
    "ha_Y[:part_shape[0],:part_shape[1]] = embed_Y\n",
    "# coeffs_Y[:part_shape[0],:part_shape[1]] = cY\n",
    "\n",
    "# idwt\n",
    "embed_ha_Y_idwt = idwt(ha_Y.copy(), coeffs_Y,'db1',\"smooth\")\n",
    "\n",
    "\n",
    "\n",
    "ori_img_YUV[:,:,0] = embed_ha_Y_idwt\n",
    "embed_img_YUV = ori_img_YUV[:ori_img_shape[0],:ori_img_shape[1]]\n",
    "\n",
    "img_float32 = np.float32(embed_img_YUV)\n",
    "embed_img = cv2.cvtColor(img_float32,cv2.COLOR_YUV2BGR)\n",
    "\n",
    "embed_img[embed_img>255]=255\n",
    "embed_img[embed_img<0]=0\n",
    "\n",
    "\n",
    "# cv2.imwrite(\"embed/captured_lena.png\",embed_img)\n",
    "\n",
    "cv2.imwrite(\"embed/captured_{}_img{}.png\".format(p,img_num),embed_img)\n",
    "\n",
    "print(\"Time:\",time.time()-start_emb)"
   ]
  }
 ],
 "metadata": {
  "kernelspec": {
   "display_name": "Python 3",
   "language": "python",
   "name": "python3"
  },
  "language_info": {
   "codemirror_mode": {
    "name": "ipython",
    "version": 3
   },
   "file_extension": ".py",
   "mimetype": "text/x-python",
   "name": "python",
   "nbconvert_exporter": "python",
   "pygments_lexer": "ipython3",
   "version": "3.6.4"
  }
 },
 "nbformat": 4,
 "nbformat_minor": 2
}
