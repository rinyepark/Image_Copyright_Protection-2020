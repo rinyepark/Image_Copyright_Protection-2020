{
 "cells": [
  {
   "cell_type": "markdown",
   "metadata": {},
   "source": [
    "# Import Python module"
   ]
  },
  {
   "cell_type": "code",
   "execution_count": 49,
   "metadata": {},
   "outputs": [],
   "source": [
    "import matplotlib.pyplot as plt\n",
    "import time"
   ]
  },
  {
   "cell_type": "code",
   "execution_count": 50,
   "metadata": {},
   "outputs": [],
   "source": [
    "import numpy as np\n",
    "import matplotlib.pyplot as plt\n",
    "from PIL import Image, ImageDraw, ImageFont"
   ]
  },
  {
   "cell_type": "code",
   "execution_count": 51,
   "metadata": {},
   "outputs": [],
   "source": [
    "import numpy as np \n",
    "import cv2\n",
    "from pywt import dwt,idwt\n",
    "import os"
   ]
  },
  {
   "cell_type": "markdown",
   "metadata": {},
   "source": [
    "#### 임시\n",
    "***"
   ]
  },
  {
   "cell_type": "code",
   "execution_count": 52,
   "metadata": {},
   "outputs": [],
   "source": [
    "phone = \"galaxyS7\"\n",
    "p = \"phone1\"\n",
    "img_num = 1"
   ]
  },
  {
   "cell_type": "markdown",
   "metadata": {},
   "source": [
    "***"
   ]
  },
  {
   "cell_type": "markdown",
   "metadata": {},
   "source": [
    "### 1. 자유 Crop 여부 확인 및 복원\n",
    "\n",
    "현재는 편의를 위해 화면 사이즈를 미리 알고 복원하지만, 실제 상황에서는 모든 화면 크기에 대해 복원한 후 각 이미지마다 워터마크 추출을 시도한다."
   ]
  },
  {
   "cell_type": "code",
   "execution_count": 53,
   "metadata": {},
   "outputs": [],
   "source": [
    "def dewatermark(x):\n",
    "    \"\"\"Removes all the significant bits and place the least significant bits to the most significant for watermark extraction.\"\"\"\n",
    "    x = format(x, '#010b')\n",
    "    first = '0b'\n",
    "    mid = x[-2:]\n",
    "    third = '000000'\n",
    "    y = first + mid + third\n",
    "    result = int(y, 2)\n",
    "    return np.uint8(result)"
   ]
  },
  {
   "cell_type": "code",
   "execution_count": 54,
   "metadata": {},
   "outputs": [],
   "source": [
    "screen_size = {\"galaxyS7\":(1920,1080,3), \"iPhoneX\":(2436,1125,3),\n",
    "               \"LGv40\":(3120,1440,3)}"
   ]
  },
  {
   "cell_type": "code",
   "execution_count": 55,
   "metadata": {},
   "outputs": [],
   "source": [
    "emd_url = 'embed/captured_{}_img{}_crop.png'.format(p,img_num)\n",
    "\n",
    "embed_img = cv2.imread(emd_url)\n",
    "\n",
    "if embed_img.shape != screen_size[phone]:\n",
    "    # 복원\n",
    "    ex_b = embed_img[:,:,0]\n",
    "    vecdewatermark = np.vectorize(dewatermark)\n",
    "    extract = vecdewatermark(ex_b)\n",
    "\n",
    "    col = 0\n",
    "    row = 0\n",
    "    c_dict = {}\n",
    "\n",
    "    for i in range(0, extract.shape[1]):\n",
    "        c_dict[i] = 0\n",
    "        tmp = extract[:,i][0]\n",
    "\n",
    "        for k in range(1,extract.shape[0]):\n",
    "            if tmp == extract[:,i][k]:\n",
    "                c_dict[i] +=1\n",
    "            tmp = extract[:,i][k]\n",
    "\n",
    "    col = [key for key, value in c_dict.items() if value > extract.shape[0]-500]\n",
    "\n",
    "    r_dict = {}\n",
    "\n",
    "    if len(col) != 0:\n",
    "        for i in range(0,extract.shape[0]):\n",
    "            r_dict[i] = 0\n",
    "            tmp = extract[i][0]\n",
    "            for k in range(1, extract.shape[1]):\n",
    "                if tmp == extract[i][k]:\n",
    "                    r_dict[i] +=1\n",
    "                tmp = extract[i][k]\n",
    "\n",
    "        row = [key for key, value in r_dict.items() if value > extract.shape[1]-500]\n",
    "\n",
    "    if len(col) ==0 or len(row) == 0:\n",
    "        print(\"추출 불가능\")\n",
    "\n",
    "    else:\n",
    "        # 가운데가 추출되는 경우\n",
    "        ## 복원 후 Extract\n",
    "#         mid = (extract.shape[0]//2, extract.shape[1]//2)\n",
    "\n",
    "        point= [0,0]\n",
    "        \n",
    "        img_shape = screen_size[phone][:2]\n",
    "        \n",
    "        row.sort()\n",
    "        col.sort()\n",
    "\n",
    "        # 모두 4개가 다 있는 경우\n",
    "        if len(col) == 4 and len(row) == 4:\n",
    "            point[0] = (img_shape[0] -4)//2 - row[0]\n",
    "            point[1] = (img_shape[1] -4)//2 - col[0]\n",
    "            \n",
    "            insert_point = (point[1],point[0])\n",
    "        \n",
    "            background = (0,0,0)\n",
    "            pad_size = (img_shape[1],img_shape[0]) #캡쳐 사이즈\n",
    "\n",
    "            image = Image.new('RGB', pad_size, background)\n",
    "            im = Image.open(emd_url)\n",
    "            image.paste(im ,insert_point)\n",
    "            \n",
    "            re_url = \"embed/reshape/reshape_{}_img{}.png\".format(p,img_num)\n",
    "            image.save(re_url)\n",
    "            embed_img = cv2.imread(re_url)\n",
    "        else:\n",
    "            pass\n",
    "\n",
    "\n",
    "\n",
    "# 추출 안되면 불가능\n",
    "\n",
    "embed_img = embed_img.astype(np.float32)"
   ]
  },
  {
   "cell_type": "markdown",
   "metadata": {},
   "source": [
    "### 2. extract\n",
    "\n",
    "제약1) wm_shape 알아야 함(14,140 통일)"
   ]
  },
  {
   "cell_type": "code",
   "execution_count": 56,
   "metadata": {},
   "outputs": [],
   "source": [
    "def block_get_wm(block):\n",
    "    \n",
    "    mod = 32\n",
    "    \n",
    "    block_dct = cv2.dct(block)\n",
    "    U,s,V = np.linalg.svd(block_dct)\n",
    "    max_s = s[0]\n",
    "    \n",
    "    if max_s%mod > mod/2:\n",
    "        wm_1 = 255\n",
    "    else:\n",
    "        wm_1= 0\n",
    "    \n",
    "    return wm_1"
   ]
  },
  {
   "cell_type": "code",
   "execution_count": 57,
   "metadata": {},
   "outputs": [
    {
     "name": "stdout",
     "output_type": "stream",
     "text": [
      "걸린시간:  1.1868247985839844\n"
     ]
    }
   ],
   "source": [
    "start = time.time()\n",
    "\n",
    "# font10\n",
    "wm_shape = (13,148)\n",
    "\n",
    "dwt_deep = 1\n",
    "block_shape = (8,8)\n",
    "\n",
    "embed_img_YUV = cv2.cvtColor(embed_img, cv2.COLOR_BGR2YUV)\n",
    "\n",
    "\n",
    "if not embed_img_YUV.shape[0]%(2**dwt_deep)==0:\n",
    "    temp = (2**dwt_deep)-embed_img_YUV.shape[0]%(2**dwt_deep)\n",
    "    embed_img_YUV = np.concatenate((embed_img_YUV,np.zeros((temp,embed_img_YUV.shape[1],3))),axis=0)\n",
    "if not embed_img_YUV.shape[1]%(2**dwt_deep)==0:\n",
    "    temp = (2**dwt_deep)-embed_img_YUV.shape[1]%(2**dwt_deep)\n",
    "    embed_img_YUV = np.concatenate((embed_img_YUV,np.zeros((embed_img_YUV.shape[0],temp,3))),axis=1)\n",
    "\n",
    "# assert embed_img_YUV.shape[0]%(2**dwt_deep)==0\n",
    "# assert embed_img_YUV.shape[1]%(2**dwt_deep)==0\n",
    "\n",
    "coeffs_Y = dwt(embed_img_YUV[:,:,0],'haar')\n",
    "ha_Y = coeffs_Y[0]\n",
    "coeffs_Y = coeffs_Y[1]\n",
    "\n",
    "shape0_int,shape1_int = ha_Y.shape[0]//block_shape[0], ha_Y.shape[1]//block_shape[1]\n",
    "block_index0,block_index1 = np.meshgrid(np.arange(shape0_int),np.arange(shape1_int))\n",
    "b_flat_idx0, b_flat_idx1 = block_index0.flatten(),block_index1.flatten()\n",
    "length = b_flat_idx0.size\n",
    "\n",
    "ha_block_shape = (int(ha_Y.shape[0]/block_shape[0]),int(ha_Y.shape[1]/block_shape[1]),block_shape[0],block_shape[1])\n",
    "strides = ha_Y.itemsize*(np.array([ha_Y.shape[1]*block_shape[0],block_shape[1],ha_Y.shape[1],1]))\n",
    "\n",
    "ha_Y_block = np.lib.stride_tricks.as_strided(ha_Y.copy(),ha_block_shape,strides)\n",
    "# coeffs_Y_block = np.lib.stride_tricks.as_strided(coeffs_Y.copy(),ha_block_shape,strides)\n",
    "\n",
    "extract_wm = np.array([])\n",
    "\n",
    "\n",
    "for i in range(length):\n",
    "    \n",
    "    wm = block_get_wm(ha_Y_block[b_flat_idx0[i],b_flat_idx1[i]])\n",
    "    \n",
    "#     wm2 = block_get_wm(coeffs_Y_block[b_flat_idx0[i],b_flat_idx1[i]])\n",
    "\n",
    "    # i가 워터마크의 크기를 벗어난 경우\n",
    "    if i<wm_shape[0]*wm_shape[1]:\n",
    "        extract_wm  = np.append(extract_wm,wm)\n",
    "        \n",
    "#         extract_wm2 = np.append(extract_wm2,wm2)\n",
    "        \n",
    "    else:\n",
    "        times = i//(wm_shape[0]*wm_shape[1])\n",
    "        ii = i%(wm_shape[0]*wm_shape[1])\n",
    "        extract_wm[ii] = (extract_wm[ii]*times + wm)/(times+1)\n",
    "        \n",
    "#         extract_wm2[ii] = (extract_wm2[ii]*times + wm2)/(times+1)\n",
    "\n",
    "print(\"걸린시간: \",time.time()-start)"
   ]
  },
  {
   "cell_type": "code",
   "execution_count": 58,
   "metadata": {},
   "outputs": [],
   "source": [
    "new = extract_wm.copy()\n",
    "\n",
    "new[new < 128] = 0\n",
    "new[new >= 128] = 255\n",
    "\n",
    "out_wm_name = \"extract/extract_{}_img{}_crop.png\".format(p,img_num)\n",
    "out_new_wm_name = \"extract/extract_{}_img{}_crop_new.png\".format(p,img_num)"
   ]
  },
  {
   "cell_type": "code",
   "execution_count": 59,
   "metadata": {},
   "outputs": [
    {
     "data": {
      "text/plain": [
       "True"
      ]
     },
     "execution_count": 59,
     "metadata": {},
     "output_type": "execute_result"
    }
   ],
   "source": [
    "cv2.imwrite(out_wm_name,extract_wm.reshape(wm_shape[0],wm_shape[1]))\n",
    "cv2.imwrite(out_new_wm_name,new.reshape(wm_shape[0],wm_shape[1]))"
   ]
  }
 ],
 "metadata": {
  "kernelspec": {
   "display_name": "Python 3",
   "language": "python",
   "name": "python3"
  },
  "language_info": {
   "codemirror_mode": {
    "name": "ipython",
    "version": 3
   },
   "file_extension": ".py",
   "mimetype": "text/x-python",
   "name": "python",
   "nbconvert_exporter": "python",
   "pygments_lexer": "ipython3",
   "version": "3.6.4"
  }
 },
 "nbformat": 4,
 "nbformat_minor": 2
}
