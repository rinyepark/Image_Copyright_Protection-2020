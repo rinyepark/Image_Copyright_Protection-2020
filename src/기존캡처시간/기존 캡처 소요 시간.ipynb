{
 "cells": [
  {
   "cell_type": "code",
   "execution_count": 2,
   "metadata": {},
   "outputs": [],
   "source": [
    "import wx\n",
    "import time"
   ]
  },
  {
   "cell_type": "code",
   "execution_count": 4,
   "metadata": {},
   "outputs": [
    {
     "name": "stdout",
     "output_type": "stream",
     "text": [
      "걸린시간:  0.18751907348632812\n"
     ]
    }
   ],
   "source": [
    "start = time.time()\n",
    "# del app\n",
    "app = wx.App()\n",
    "screen = wx.ScreenDC()\n",
    "\n",
    "bmp = wx.Bitmap(1920,1080)\n",
    "mem = wx.MemoryDC(bmp)\n",
    "mem.Blit(0,0,1920,1080,screen,0,0)\n",
    "del mem\n",
    "bmp.SaveFile('wx1.bmp', wx.BITMAP_TYPE_BMP)\n",
    "\n",
    "print(\"걸린시간: \",time.time()-start)\n"
   ]
  }
 ],
 "metadata": {
  "kernelspec": {
   "display_name": "Python 3",
   "language": "python",
   "name": "python3"
  },
  "language_info": {
   "codemirror_mode": {
    "name": "ipython",
    "version": 3
   },
   "file_extension": ".py",
   "mimetype": "text/x-python",
   "name": "python",
   "nbconvert_exporter": "python",
   "pygments_lexer": "ipython3",
   "version": "3.6.4"
  }
 },
 "nbformat": 4,
 "nbformat_minor": 2
}
