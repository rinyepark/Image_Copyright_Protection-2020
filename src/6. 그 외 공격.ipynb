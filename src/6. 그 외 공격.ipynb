{
 "cells": [
  {
   "cell_type": "markdown",
   "metadata": {},
   "source": [
    "# Import Python module"
   ]
  },
  {
   "cell_type": "code",
   "execution_count": 1,
   "metadata": {},
   "outputs": [],
   "source": [
    "import matplotlib.pyplot as plt\n",
    "import time"
   ]
  },
  {
   "cell_type": "code",
   "execution_count": 2,
   "metadata": {},
   "outputs": [],
   "source": [
    "import numpy as np\n",
    "import matplotlib.pyplot as plt\n",
    "from PIL import Image, ImageDraw, ImageFont"
   ]
  },
  {
   "cell_type": "code",
   "execution_count": 3,
   "metadata": {},
   "outputs": [],
   "source": [
    "import numpy as np \n",
    "import cv2\n",
    "from pywt import dwt,idwt\n",
    "import os"
   ]
  },
  {
   "cell_type": "markdown",
   "metadata": {},
   "source": [
    "#### 임시\n",
    "***"
   ]
  },
  {
   "cell_type": "code",
   "execution_count": 4,
   "metadata": {},
   "outputs": [],
   "source": [
    "# phone = \"galaxyS7\"\n",
    "p = \"phone3\"\n",
    "img_num = 2"
   ]
  },
  {
   "cell_type": "markdown",
   "metadata": {},
   "source": [
    "***"
   ]
  },
  {
   "cell_type": "markdown",
   "metadata": {},
   "source": [
    "## 1. Attack"
   ]
  },
  {
   "cell_type": "code",
   "execution_count": 5,
   "metadata": {},
   "outputs": [],
   "source": [
    "att = []\n",
    "ext = []"
   ]
  },
  {
   "cell_type": "code",
   "execution_count": 6,
   "metadata": {},
   "outputs": [],
   "source": [
    "emd_url = 'embed/captured_{}_img{}.png'.format(p,img_num)"
   ]
  },
  {
   "cell_type": "markdown",
   "metadata": {},
   "source": [
    "#### jpg compression"
   ]
  },
  {
   "cell_type": "code",
   "execution_count": 7,
   "metadata": {},
   "outputs": [],
   "source": [
    "att_url = 'attack/png_to_jpg/p2j_{}_img{}.jpg'.format(p,img_num)\n",
    "att.append(att_url)\n",
    "ext.append('extract/attack/png_to_jpg/wm_p2j_{}_img{}.png'.format(p,img_num))\n",
    "\n",
    "im = Image.open(emd_url)\n",
    "rgb_im = im.convert('RGB')\n",
    "rgb_im.save(att_url)"
   ]
  },
  {
   "cell_type": "markdown",
   "metadata": {},
   "source": [
    "#### median filtering"
   ]
  },
  {
   "cell_type": "code",
   "execution_count": 8,
   "metadata": {},
   "outputs": [
    {
     "data": {
      "text/plain": [
       "True"
      ]
     },
     "execution_count": 8,
     "metadata": {},
     "output_type": "execute_result"
    }
   ],
   "source": [
    "att_url = 'attack/median/m_{}_img{}.png'.format(p,img_num)\n",
    "att.append(att_url)\n",
    "ext.append('extract/attack/median/wm_m_{}_img{}.png'.format(p,img_num))\n",
    "\n",
    "img = cv2.imread(emd_url)\n",
    "m_blur = cv2.medianBlur(img,3)\n",
    "cv2.imwrite(att_url,m_blur)"
   ]
  },
  {
   "cell_type": "markdown",
   "metadata": {},
   "source": [
    "#### Gaussian filtering"
   ]
  },
  {
   "cell_type": "code",
   "execution_count": 9,
   "metadata": {},
   "outputs": [
    {
     "data": {
      "text/plain": [
       "True"
      ]
     },
     "execution_count": 9,
     "metadata": {},
     "output_type": "execute_result"
    }
   ],
   "source": [
    "att_url = 'attack/gaussian/g_{}_img{}.png'.format(p,img_num)\n",
    "att.append(att_url)\n",
    "ext.append('extract/attack/gaussian/wm_g_{}_img{}.png'.format(p,img_num))\n",
    "\n",
    "img = cv2.imread(emd_url)\n",
    "g_blur = cv2.GaussianBlur(img,(3,3),0)\n",
    "cv2.imwrite(att_url,g_blur)"
   ]
  },
  {
   "cell_type": "markdown",
   "metadata": {},
   "source": [
    "#### Average filtering"
   ]
  },
  {
   "cell_type": "code",
   "execution_count": 10,
   "metadata": {},
   "outputs": [
    {
     "data": {
      "text/plain": [
       "True"
      ]
     },
     "execution_count": 10,
     "metadata": {},
     "output_type": "execute_result"
    }
   ],
   "source": [
    "att_url = 'attack/average/a_{}_img{}.png'.format(p,img_num)\n",
    "att.append(att_url)\n",
    "ext.append('extract/attack/average/wm_a_{}_img{}.png'.format(p,img_num))\n",
    "\n",
    "img = cv2.imread(emd_url)\n",
    "a_blur = cv2.blur(img,(3,3))\n",
    "cv2.imwrite(att_url,a_blur)"
   ]
  },
  {
   "cell_type": "markdown",
   "metadata": {},
   "source": [
    "#### Histogram Equalization(X)"
   ]
  },
  {
   "cell_type": "code",
   "execution_count": 11,
   "metadata": {},
   "outputs": [],
   "source": [
    "# att_url = 'code_fix/embed/hist_equal_code3.png'\n",
    "\n",
    "# img = cv2.imread(emd_url)\n",
    "# img2 = []\n",
    "# for i in range(3):\n",
    "#     img2.append(cv2.equalizeHist(img[:,:,i]))\n",
    "    \n",
    "# img_merge = cv2.merge(img2)\n",
    "# cv2.imwrite(att_url,img_merge)"
   ]
  },
  {
   "cell_type": "markdown",
   "metadata": {},
   "source": [
    "#### salt and pepper(X)"
   ]
  },
  {
   "cell_type": "code",
   "execution_count": 12,
   "metadata": {},
   "outputs": [],
   "source": [
    "# att_url = 'code_fix/embed/s&p_dwt1_88_two_0.005.png'\n",
    "\n",
    "# img = cv2.imread(emd_url)\n",
    "# from random import random\n",
    "\n",
    "# def salt_and_pepper(image, p): \n",
    "#     output = np.zeros(image.shape,np.uint8) \n",
    "#     thres = 1 - p \n",
    "#     for i in range(image.shape[0]): \n",
    "#         for j in range(image.shape[1]): \n",
    "#             rdn = random() \n",
    "#             if rdn < p: \n",
    "#                 output[i][j] = 0 \n",
    "#             elif rdn > thres: \n",
    "#                 output[i][j] = 255 \n",
    "#             else: \n",
    "#                 output[i][j] = image[i][j]\n",
    "#     return output\n",
    "\n",
    "# salt_pepper_noise_imgs = salt_and_pepper(img,0.005)\n",
    "# cv2.imwrite(att_url,salt_pepper_noise_imgs)"
   ]
  },
  {
   "cell_type": "markdown",
   "metadata": {},
   "source": [
    "### 2. extract\n",
    "\n",
    "제약1) wm_shape 알아야 함(13,148 통일)"
   ]
  },
  {
   "cell_type": "code",
   "execution_count": 13,
   "metadata": {},
   "outputs": [],
   "source": [
    "def block_get_wm(block):\n",
    "    \n",
    "    mod = 32\n",
    "    \n",
    "    block_dct = cv2.dct(block)\n",
    "    U,s,V = np.linalg.svd(block_dct)\n",
    "    max_s = s[0]\n",
    "    \n",
    "    if max_s%mod > mod/2:\n",
    "        wm_1 = 255\n",
    "    else:\n",
    "        wm_1= 0\n",
    "    \n",
    "    return wm_1"
   ]
  },
  {
   "cell_type": "code",
   "execution_count": 14,
   "metadata": {},
   "outputs": [
    {
     "name": "stdout",
     "output_type": "stream",
     "text": [
      "0\n",
      "1\n",
      "2\n",
      "3\n"
     ]
    }
   ],
   "source": [
    "for k in range(len(att)):\n",
    "    print(k)\n",
    "    emd_url = att[k]\n",
    "    embed_img = cv2.imread(emd_url).astype(np.float32)\n",
    "    \n",
    "\n",
    "    # font10\n",
    "    wm_shape = (13,148)\n",
    "\n",
    "    dwt_deep = 1\n",
    "    block_shape = (8,8)\n",
    "\n",
    "    embed_img_YUV = cv2.cvtColor(embed_img, cv2.COLOR_BGR2YUV)\n",
    "\n",
    "\n",
    "    if not embed_img_YUV.shape[0]%(2**dwt_deep)==0:\n",
    "        temp = (2**dwt_deep)-embed_img_YUV.shape[0]%(2**dwt_deep)\n",
    "        embed_img_YUV = np.concatenate((embed_img_YUV,np.zeros((temp,embed_img_YUV.shape[1],3))),axis=0)\n",
    "    if not embed_img_YUV.shape[1]%(2**dwt_deep)==0:\n",
    "        temp = (2**dwt_deep)-embed_img_YUV.shape[1]%(2**dwt_deep)\n",
    "        embed_img_YUV = np.concatenate((embed_img_YUV,np.zeros((embed_img_YUV.shape[0],temp,3))),axis=1)\n",
    "\n",
    "    # assert embed_img_YUV.shape[0]%(2**dwt_deep)==0\n",
    "    # assert embed_img_YUV.shape[1]%(2**dwt_deep)==0\n",
    "\n",
    "    coeffs_Y = dwt(embed_img_YUV[:,:,0],'haar')\n",
    "    ha_Y = coeffs_Y[0]\n",
    "    coeffs_Y = coeffs_Y[1]\n",
    "\n",
    "    shape0_int,shape1_int = ha_Y.shape[0]//block_shape[0], ha_Y.shape[1]//block_shape[1]\n",
    "    block_index0,block_index1 = np.meshgrid(np.arange(shape0_int),np.arange(shape1_int))\n",
    "    b_flat_idx0, b_flat_idx1 = block_index0.flatten(),block_index1.flatten()\n",
    "    length = b_flat_idx0.size\n",
    "\n",
    "    ha_block_shape = (int(ha_Y.shape[0]/block_shape[0]),int(ha_Y.shape[1]/block_shape[1]),block_shape[0],block_shape[1])\n",
    "    strides = ha_Y.itemsize*(np.array([ha_Y.shape[1]*block_shape[0],block_shape[1],ha_Y.shape[1],1]))\n",
    "\n",
    "    ha_Y_block = np.lib.stride_tricks.as_strided(ha_Y.copy(),ha_block_shape,strides)\n",
    "    # coeffs_Y_block = np.lib.stride_tricks.as_strided(coeffs_Y.copy(),ha_block_shape,strides)\n",
    "\n",
    "    extract_wm = np.array([])\n",
    "\n",
    "\n",
    "    for i in range(length):\n",
    "\n",
    "        wm = block_get_wm(ha_Y_block[b_flat_idx0[i],b_flat_idx1[i]])\n",
    "\n",
    "    #     wm2 = block_get_wm(coeffs_Y_block[b_flat_idx0[i],b_flat_idx1[i]])\n",
    "\n",
    "        # i가 워터마크의 크기를 벗어난 경우\n",
    "        if i<wm_shape[0]*wm_shape[1]:\n",
    "            extract_wm  = np.append(extract_wm,wm)\n",
    "\n",
    "    #         extract_wm2 = np.append(extract_wm2,wm2)\n",
    "\n",
    "        else:\n",
    "            times = i//(wm_shape[0]*wm_shape[1])\n",
    "            ii = i%(wm_shape[0]*wm_shape[1])\n",
    "            extract_wm[ii] = (extract_wm[ii]*times + wm)/(times+1)\n",
    "\n",
    "    #         extract_wm2[ii] = (extract_wm2[ii]*times + wm2)/(times+1)\n",
    "    \n",
    "   \n",
    "\n",
    "    cv2.imwrite(ext[k],extract_wm.reshape(wm_shape[0],wm_shape[1]))"
   ]
  },
  {
   "cell_type": "code",
   "execution_count": null,
   "metadata": {},
   "outputs": [],
   "source": []
  }
 ],
 "metadata": {
  "kernelspec": {
   "display_name": "Python 3",
   "language": "python",
   "name": "python3"
  },
  "language_info": {
   "codemirror_mode": {
    "name": "ipython",
    "version": 3
   },
   "file_extension": ".py",
   "mimetype": "text/x-python",
   "name": "python",
   "nbconvert_exporter": "python",
   "pygments_lexer": "ipython3",
   "version": "3.6.4"
  }
 },
 "nbformat": 4,
 "nbformat_minor": 2
}
