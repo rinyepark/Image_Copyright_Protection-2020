{
 "cells": [
  {
   "cell_type": "markdown",
   "metadata": {},
   "source": [
    "## Import Python module"
   ]
  },
  {
   "cell_type": "code",
   "execution_count": 1,
   "metadata": {},
   "outputs": [],
   "source": [
    "import pytesseract\n",
    "import cv2\n",
    "import re"
   ]
  },
  {
   "cell_type": "code",
   "execution_count": 2,
   "metadata": {},
   "outputs": [],
   "source": [
    "import base64\n",
    "from Crypto import Random\n",
    "from Crypto.Cipher import AES\n",
    "import secrets"
   ]
  },
  {
   "cell_type": "code",
   "execution_count": 3,
   "metadata": {},
   "outputs": [],
   "source": [
    "import numpy as np\n",
    "import matplotlib.pyplot as plt\n",
    "from PIL import Image, ImageDraw, ImageFont"
   ]
  },
  {
   "cell_type": "code",
   "execution_count": 4,
   "metadata": {},
   "outputs": [],
   "source": [
    "import sqlite3\n",
    "import string"
   ]
  },
  {
   "cell_type": "code",
   "execution_count": 5,
   "metadata": {},
   "outputs": [],
   "source": [
    "import datetime\n",
    "import time\n",
    "import pandas as pd"
   ]
  },
  {
   "cell_type": "code",
   "execution_count": 6,
   "metadata": {},
   "outputs": [],
   "source": [
    "pytesseract.pytesseract.tesseract_cmd = r'C:\\Program Files\\Tesseract-OCR\\tesseract'"
   ]
  },
  {
   "cell_type": "markdown",
   "metadata": {},
   "source": [
    "#### 임시\n",
    "****"
   ]
  },
  {
   "cell_type": "code",
   "execution_count": 7,
   "metadata": {},
   "outputs": [],
   "source": [
    "phone = \"galaxyS7\"\n",
    "p = \"phone1\"\n",
    "img_num = 1"
   ]
  },
  {
   "cell_type": "markdown",
   "metadata": {},
   "source": [
    "***"
   ]
  },
  {
   "cell_type": "markdown",
   "metadata": {},
   "source": [
    "### 1. OCR\n",
    "- OCR인식이 불확실한 점으로 인해 전처리 하는 방법에 의존하거나 제대로되 결과를 얻지 못하여 전처리 부분은 생략함"
   ]
  },
  {
   "cell_type": "code",
   "execution_count": 8,
   "metadata": {},
   "outputs": [],
   "source": [
    "def upper_to_digit(upper):\n",
    "    res = ''\n",
    "    up = {'O':'0', 'G':'6', 'I':'1', 'S':'5'}\n",
    "    for i in upper:\n",
    "        if i in string.ascii_uppercase:\n",
    "            res += up[i]\n",
    "        else:\n",
    "            res += i\n",
    "    return res\n",
    "\n",
    "def digit_to_upper(digit):\n",
    "    res = ''\n",
    "    dig = {'0':'O', '6':'G', '1':'I'}\n",
    "    for i in digit:\n",
    "        if i in string.digits:\n",
    "            res += dig[i]\n",
    "        else:\n",
    "            res += i\n",
    "    return res"
   ]
  },
  {
   "cell_type": "code",
   "execution_count": 9,
   "metadata": {},
   "outputs": [],
   "source": [
    "# 전처리 함수 - 임계치\n",
    "def prepare_threshold(url):\n",
    "    img = cv2.imread(url)\n",
    "    gray = cv2.cvtColor(img, cv2.COLOR_RGB2GRAY)\n",
    "    gcopy = gray.copy()\n",
    "    gcopy[gcopy >= 70] = 255\n",
    "    gcopy[gcopy < 70] = 0\n",
    "    \n",
    "    #adap_thresh = cv2.adaptiveThreshold(gray, 255, cv2.ADAPTIVE_THRESH_MEAN_C, cv2.THRESH_BINARY_INV, 25, 5)\n",
    "    #dst = cv2.bitwise_not(adap_thresh)\n",
    "    res = pytesseract.image_to_string(gcopy)\n",
    "    txt = re.sub(pattern='[^\\w\\s]',repl='',string=res.replace(\" \",\"\"))\n",
    "\n",
    "    return txt"
   ]
  },
  {
   "cell_type": "code",
   "execution_count": 10,
   "metadata": {},
   "outputs": [],
   "source": [
    "# 전처리함수 - repadding\n",
    "def prepare_repadding(url):\n",
    "    image = Image.open(url)\n",
    "#     area = (12,1,136,11) #워터마크 글자 크기에 따라 값이 다름\n",
    "    cropped = image.crop(area)\n",
    "    pad_size = (148, 13)\n",
    "    \n",
    "    background = (0,0,0)\n",
    "    backg = Image.new('RGB', pad_size, background)\n",
    "    backg.paste(cropped,area)\n",
    "    \n",
    "    save_url = 'extract/after/extract_{}_img{}.png'.format(p,img_num)\n",
    "    backg.save(save_url)\n",
    "    res = pytesseract.image_to_string(save_url)\n",
    "    txt = re.sub(pattern='[^\\w\\s]',repl='',string=res.replace(\" \",\"\"))\n",
    "    \n",
    "    return txt\n",
    "    "
   ]
  },
  {
   "cell_type": "code",
   "execution_count": 11,
   "metadata": {},
   "outputs": [],
   "source": [
    "# upper/digit 변형\n",
    "def transform(txt):\n",
    "    idx = ''\n",
    "    sites = txt[:3]\n",
    "    date = txt[3:7]\n",
    "    user_code = txt[7:13]\n",
    "    user_num = txt[13:]\n",
    "\n",
    "    idx = digit_to_upper(sites) + upper_to_digit(date) + digit_to_upper(user_code) + upper_to_digit(user_num)\n",
    "\n",
    "    return idx"
   ]
  },
  {
   "cell_type": "code",
   "execution_count": 12,
   "metadata": {},
   "outputs": [],
   "source": [
    "url = \"extract/extract_{}_img{}.png\".format(p,img_num)\n",
    "res = pytesseract.image_to_string(url)\n",
    "txt = re.sub(pattern='[^\\w\\s]',repl='',string=res.replace(\" \",\"\"))\n",
    "\n",
    "if len(txt) == 17:\n",
    "    idx = transform(txt)\n",
    "else:\n",
    "#     prepare_threshold(url)\n",
    "#     prepare_repadding(url)\n",
    "    print(\"OCR을 이용한 워터마크 추출 불가능\")"
   ]
  },
  {
   "cell_type": "markdown",
   "metadata": {},
   "source": [
    "### 2. user DB 연결"
   ]
  },
  {
   "cell_type": "code",
   "execution_count": 13,
   "metadata": {},
   "outputs": [],
   "source": [
    "conn = sqlite3.connect(\"user_db/user.db\")"
   ]
  },
  {
   "cell_type": "markdown",
   "metadata": {},
   "source": [
    "#### * SQL문"
   ]
  },
  {
   "cell_type": "code",
   "execution_count": 14,
   "metadata": {},
   "outputs": [],
   "source": [
    "select_key = \"SELECT * from KEY\"\n",
    "select_webuser_pd = \"SELECT * FROM webuser WHERE idx = '{}'\""
   ]
  },
  {
   "cell_type": "markdown",
   "metadata": {},
   "source": [
    "### 2. KEY 불러오기"
   ]
  },
  {
   "cell_type": "code",
   "execution_count": 15,
   "metadata": {},
   "outputs": [],
   "source": [
    "key_df = pd.read_sql_query(select_key ,conn)\n",
    "key_dict = dict(zip(key_df.columns, key_df.iloc[0]))"
   ]
  },
  {
   "cell_type": "markdown",
   "metadata": {},
   "source": [
    "### 3. 사용자 찾기"
   ]
  },
  {
   "cell_type": "code",
   "execution_count": 16,
   "metadata": {},
   "outputs": [],
   "source": [
    "sus_df = pd.read_sql_query(select_webuser_pd.format(idx),conn)\n",
    "enc_suspect = dict(zip(sus_df.columns, sus_df.iloc[0]))"
   ]
  },
  {
   "cell_type": "markdown",
   "metadata": {},
   "source": [
    "### 4. 해독"
   ]
  },
  {
   "cell_type": "code",
   "execution_count": 17,
   "metadata": {},
   "outputs": [],
   "source": [
    "class AES_cbcmode:\n",
    "    \n",
    "    def __init__(self,key):\n",
    "        self.key = key\n",
    "    \n",
    "    def padding(self, raw_data):\n",
    "        # 한국어의 경우 utf-8했을 때의 len이 달라지므로 encoding 과정 추가\n",
    "        enc = raw_data.encode('utf-8')\n",
    "        pad_num = AES.block_size - len(enc) % AES.block_size\n",
    "        pad_chr = chr(pad_num)\n",
    "        \n",
    "        # encoding해서 최종 pad_data 반환\n",
    "        return (raw_data + pad_num * pad_chr).encode('utf-8')\n",
    "    \n",
    "    def unpadding(self, pad_data):\n",
    "        return pad_data[:-pad_data[-1]]\n",
    "    \n",
    "    def encrypt(self, raw_data):\n",
    "        pad_data = self.padding(raw_data)\n",
    "    \n",
    "        # iv: initial vector\n",
    "        # 두 번째 키와 같은 존재, \n",
    "        # 블록 단위로 암호/복호하면서 변경되고 그 값은 다음 블록 단위 암호/복호 시 사용\n",
    "        iv = Random.new().read( AES.block_size )\n",
    "        \n",
    "        # CBC mode(Cipher Block Chaining)\n",
    "        cipher = AES.new( self.key, AES.MODE_CBC, iv )\n",
    "        return base64.b64encode(iv + cipher.encrypt(pad_data))\n",
    "    \n",
    "    def decrypt(self, enc_data):\n",
    "        enc_decode = base64.b64decode(enc_data)\n",
    "        iv = enc_decode[:AES.block_size]\n",
    "        cipher = AES.new(self.key,AES.MODE_CBC, iv)\n",
    "        return self.unpadding(cipher.decrypt(enc_decode[AES.block_size:]))"
   ]
  },
  {
   "cell_type": "code",
   "execution_count": 18,
   "metadata": {},
   "outputs": [],
   "source": [
    "suspect = enc_suspect.copy()\n",
    "\n",
    "des_ip = AES_cbcmode(key_dict['ipkey']).decrypt(enc_suspect['ip'])\n",
    "suspect['ip'] = str(des_ip)[2:-1].replace(\"*\", \"\")\n",
    "\n",
    "des_device = AES_cbcmode(key_dict['devicekey']).decrypt(enc_suspect['device'])\n",
    "suspect['device'] = str(des_device)[2:-1].replace(\"*\", \"\")\n",
    "\n",
    "des_pid = AES_cbcmode(key_dict['pidkey']).decrypt(enc_suspect['pid'])\n",
    "suspect['pid'] = str(des_pid)[2:-1].replace(\"*\", \"\")"
   ]
  },
  {
   "cell_type": "code",
   "execution_count": 19,
   "metadata": {},
   "outputs": [
    {
     "name": "stdout",
     "output_type": "stream",
     "text": [
      "{'idx': 'DAU0614MGQOHR0000', 'year': 2020, 'month': 6, 'day': 14, 'time': '12:46:11', 'ip': '119.25.133.114', 'device': 'SM-G930S', 'pid': 'Q18MK5XI9M', 'url': 'http://webtoon.daum.net/webtoon/viewer/81878'}\n"
     ]
    }
   ],
   "source": [
    "print(suspect)"
   ]
  },
  {
   "cell_type": "markdown",
   "metadata": {},
   "source": [
    "#### DB종료"
   ]
  },
  {
   "cell_type": "code",
   "execution_count": 20,
   "metadata": {},
   "outputs": [],
   "source": [
    "conn.close()"
   ]
  }
 ],
 "metadata": {
  "kernelspec": {
   "display_name": "Python 3",
   "language": "python",
   "name": "python3"
  },
  "language_info": {
   "codemirror_mode": {
    "name": "ipython",
    "version": 3
   },
   "file_extension": ".py",
   "mimetype": "text/x-python",
   "name": "python",
   "nbconvert_exporter": "python",
   "pygments_lexer": "ipython3",
   "version": "3.6.4"
  }
 },
 "nbformat": 4,
 "nbformat_minor": 2
}
